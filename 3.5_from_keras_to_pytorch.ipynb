{
 "cells": [
  {
   "cell_type": "markdown",
   "metadata": {},
   "source": [
    "# From Keras to Pytorch\n",
    "## And build \"Coord Conv\" with 4 lines of code"
   ]
  },
  {
   "cell_type": "markdown",
   "metadata": {},
   "source": [
    "Keras",
    "\n",
    "Yes yes, keras is friendlier for beginners.\n",
    "\n",
    "#### Work well with google's tensorflow\n",
    "Even the official [\"get started\" tutorial page of tensorflow](https://www.tensorflow.org/tutorials/) starts with keras api now (2018-07-12).\n",
    "\n",
    "#### Simplicity\n",
    "Keras doesn't complicate the DL when it's not necessary, like a dense layer should cost you a line of code, no more.\n",
    "\n",
    "And choosing optimizer, loss function, extra metrics, all in one line of code.\n",
    "\n",
    "#### Keras codes:\n",
    "For using keras. See the previous notebooks\n",
    "\n",
    "## Pytorch\n",
    "Pytorch is another level of awesomeness, if tensorflow isn't from google and bear its reputation, pytorch should have taken the industry by now.\n",
    "\n",
    "If you try reading paper, that has some interesting structure, method about DL, like different strategy between train/inference, several optimizer, a wierd shape of model and wierder strategy of updating them partially, or some time just a very unique loss function work with a very tailor made data generator.\n",
    "\n",
    "I used to do those edgy models with keras. It's hard, it's just hard. Like modify a luxury hotel for a school or a hospital or a jail or all kinds of other buildings. The overhaul on engineering alone is nightmare \n",
    "\n",
    "![search trends on deep learning lib](docs/dl_lib_trends.png)\n",
    "\n",
    "Among other convenient features, pytorch is trending, becoming the world's most used deep learning framework in AI labs.(Not yet for business)"
   ]
  },
  {
   "cell_type": "markdown",
   "metadata": {},
   "source": [
    "Requirements\n",
    "\n",
    "```\n",
    "python 3.6\n",
    "\n",
    "numpy == '1.14.3'\n",
    "pandas == '0.23.0'\n",
    "tensorflow == '1.8.0'\n",
    "keras == '2.2.0'\n",
    "tqdm == '4.23.4'\n",
    "```\n",
    "Other versions of above library will probably work\n",
    "\n",
    "If you don't have any of these, try the following format in the command line:\n",
    "```\n",
    "~/anaconda3/bin/pip install keras==2.2.0\n",
    "```\n",
    "assuming your anaconda3 is at ```~/anaconda3/```"
   ]
  },
  {
   "cell_type": "code",
   "execution_count": 1,
   "metadata": {},
   "outputs": [],
   "source": [
    "from torchvision.datasets import FashionMNIST\n",
    "from torchvision import transforms"
   ]
  },
  {
   "cell_type": "markdown",
   "metadata": {},
   "source": [
    "We are using the [fashion-mnist](https://github.com/zalandoresearch/fashion-mnist) dataset as the problem we are going to tackle today."
   ]
  },
  {
   "cell_type": "code",
   "execution_count": 2,
   "metadata": {},
   "outputs": [],
   "source": [
    "transform = transforms.Compose([transforms.Resize((28,28)),\n",
    "                                transforms.Grayscale(),\n",
    "                                transforms.ToTensor(),\n",
    "                                transforms.Normalize([.5,.5,.5],\n",
    "                                                     [.5,.5,.5])])"
   ]
  },
  {
   "cell_type": "markdown",
   "metadata": {},
   "source": [
    "Download the train data"
   ]
  },
  {
   "cell_type": "code",
   "execution_count": 3,
   "metadata": {},
   "outputs": [
    {
     "name": "stdout",
     "output_type": "stream",
     "text": [
      "Downloading http://fashion-mnist.s3-website.eu-central-1.amazonaws.com/train-images-idx3-ubyte.gz\n",
      "Downloading http://fashion-mnist.s3-website.eu-central-1.amazonaws.com/train-labels-idx1-ubyte.gz\n",
      "Downloading http://fashion-mnist.s3-website.eu-central-1.amazonaws.com/t10k-images-idx3-ubyte.gz\n",
      "Downloading http://fashion-mnist.s3-website.eu-central-1.amazonaws.com/t10k-labels-idx1-ubyte.gz\n",
      "Processing...\n",
      "Done!\n"
     ]
    }
   ],
   "source": [
    "ds = FashionMNIST(\"/data/fm\",train = True, \n",
    "              transform=transform,\n",
    "              download=True, # Set this to False second time you ran it\n",
    "             )"
   ]
  },
  {
   "cell_type": "markdown",
   "metadata": {},
   "source": [
    "Use the validation data"
   ]
  },
  {
   "cell_type": "code",
   "execution_count": 143,
   "metadata": {},
   "outputs": [],
   "source": [
    "ds_val = FashionMNIST(\"/data/fm\",train = False, \n",
    "              transform=transform,\n",
    "              download=False, # Set this to False second time you ran it\n",
    "             )"
   ]
  },
  {
   "cell_type": "markdown",
   "metadata": {},
   "source": [
    "### alternative downloading url:\n",
    "In case it's too slow\n",
    "Click this [tar.gz file address](http://45.76.223.58/fm.tar.gz) to download, you can uncomment the following and run "
   ]
  },
  {
   "cell_type": "code",
   "execution_count": null,
   "metadata": {},
   "outputs": [],
   "source": [
    "# %mkdir -p data\n",
    "# %mkdir -p data/fm\n",
    "# !!cd data; wget http://45.76.223.58/fm.tar.gz\n",
    "# !!tar -xzvf fm.tar.gz; cd .."
   ]
  },
  {
   "cell_type": "code",
   "execution_count": 308,
   "metadata": {},
   "outputs": [],
   "source": [
    "from torch.utils.data import DataLoader"
   ]
  },
  {
   "cell_type": "code",
   "execution_count": 309,
   "metadata": {},
   "outputs": [],
   "source": [
    "dl = DataLoader(ds,batch_size=64,shuffle=True,)\n",
    "gen = iter(dl)"
   ]
  },
  {
   "cell_type": "markdown",
   "metadata": {},
   "source": [
    "### Test dataset"
   ]
  },
  {
   "cell_type": "code",
   "execution_count": 310,
   "metadata": {},
   "outputs": [],
   "source": [
    "x,y = next(gen)"
   ]
  },
  {
   "cell_type": "code",
   "execution_count": 12,
   "metadata": {},
   "outputs": [
    {
     "data": {
      "text/plain": [
       "(torch.Size([64, 1, 28, 28]), torch.Size([64]))"
      ]
     },
     "execution_count": 12,
     "metadata": {},
     "output_type": "execute_result"
    }
   ],
   "source": [
    "x.size(),y.size()"
   ]
  },
  {
   "cell_type": "code",
   "execution_count": 13,
   "metadata": {},
   "outputs": [],
   "source": [
    "from matplotlib import pyplot as plt\n",
    "%matplotlib inline"
   ]
  },
  {
   "cell_type": "code",
   "execution_count": 322,
   "metadata": {},
   "outputs": [
    {
     "data": {
      "text/plain": [
       "<matplotlib.image.AxesImage at 0x32ab57ba8>"
      ]
     },
     "execution_count": 322,
     "metadata": {},
     "output_type": "execute_result"
    },
    {
     "data": {
      "image/png": "[encoded data removed]",
      "text/plain": [
       "<Figure size 432x288 with 1 Axes>"
      ]
     },
     "metadata": {},
     "output_type": "display_data"
    }
   ],
   "source": [
    "plt.imshow(x.numpy()[18].reshape(28,28))"
   ]
  },
  {
   "cell_type": "code",
   "execution_count": 28,
   "metadata": {},
   "outputs": [
    {
     "data": {
      "text/plain": [
       "<matplotlib.image.AxesImage at 0x127823f28>"
      ]
     },
     "execution_count": 28,
     "metadata": {},
     "output_type": "execute_result"
    },
    {
     "data": {
      "image/png": "[encoded data removed]",
      "text/plain": [
       "<Figure size 432x288 with 1 Axes>"
      ]
     },
     "metadata": {},
     "output_type": "display_data"
    }
   ],
   "source": [
    "plt.imshow(x.numpy()[1].reshape(28,28))"
   ]
  },
  {
   "cell_type": "code",
   "execution_count": 29,
   "metadata": {},
   "outputs": [
    {
     "data": {
      "text/plain": [
       "<matplotlib.image.AxesImage at 0x127970f28>"
      ]
     },
     "execution_count": 29,
     "metadata": {},
     "output_type": "execute_result"
    },
    {
     "data": {
      "image/png": "[encoded data removed]",
      "text/plain": [
       "<Figure size 432x288 with 1 Axes>"
      ]
     },
     "metadata": {},
     "output_type": "display_data"
    }
   ],
   "source": [
    "plt.imshow(x.numpy()[2].reshape(28,28))"
   ]
  },
  {
   "cell_type": "code",
   "execution_count": 30,
   "metadata": {},
   "outputs": [
    {
     "data": {
      "text/plain": [
       "<matplotlib.image.AxesImage at 0x1279e2eb8>"
      ]
     },
     "execution_count": 30,
     "metadata": {},
     "output_type": "execute_result"
    },
    {
     "data": {
      "image/png": "[encoded data removed]",
      "text/plain": [
       "<Figure size 432x288 with 1 Axes>"
      ]
     },
     "metadata": {},
     "output_type": "display_data"
    }
   ],
   "source": [
    "plt.imshow(x.numpy()[3].reshape(28,28))"
   ]
  },
  {
   "cell_type": "markdown",
   "metadata": {},
   "source": [
    "### MLP (from previews session)\n",
    "\n",
    "Starting what you are familiared with"
   ]
  },
  {
   "cell_type": "code",
   "execution_count": 88,
   "metadata": {},
   "outputs": [],
   "source": [
    "from torch import nn\n",
    "from torch.nn import functional as F"
   ]
  },
  {
   "cell_type": "code",
   "execution_count": 124,
   "metadata": {},
   "outputs": [],
   "source": [
    "mlp_01 = nn.Sequential(*[\n",
    "                        nn.Linear(28*28,512,bias=True),\n",
    "                        nn.ReLU(),\n",
    "                        nn.Linear(512,512,bias=True),\n",
    "                        nn.ReLU(),\n",
    "                        nn.Linear(512,10,bias=True),\n",
    "                        nn.Softmax(dim=-1),\n",
    "                        ])"
   ]
  },
  {
   "cell_type": "code",
   "execution_count": 125,
   "metadata": {},
   "outputs": [],
   "source": [
    "from torch.optim import Adam\n",
    "from torch import argmax\n",
    "optimizer = Adam(mlp_01.parameters(),lr = 0.001)\n",
    "loss_func = nn.CrossEntropyLoss()\n",
    "def accuracy(y_pred, y_true):\n",
    "    \"\"\"\n",
    "    :param y_pred: predition of y (will be argmaxed)\n",
    "    :param y_true: true label of y (index)\n",
    "    :return:\n",
    "    \"\"\"\n",
    "    return (argmax(y_pred,dim=-1) == y_true).float().mean()"
   ]
  },
  {
   "cell_type": "code",
   "execution_count": 127,
   "metadata": {},
   "outputs": [],
   "source": [
    "from tqdm import tnrange,tqdm_notebook,tqdm\n",
    "import tqdm"
   ]
  },
  {
   "cell_type": "code",
   "execution_count": 129,
   "metadata": {},
   "outputs": [
    {
     "data": {
      "application/vnd.jupyter.widget-view+json": {
       "model_id": "e39c5797d35c43a68469c6a32b7ccc30",
       "version_major": 2,
       "version_minor": 0
      },
      "text/plain": [
       "HBox(children=(IntProgress(value=0, max=5), HTML(value='')))"
      ]
     },
     "metadata": {},
     "output_type": "display_data"
    },
    {
     "data": {
      "application/vnd.jupyter.widget-view+json": {
       "model_id": "2d4996c0a45c4beca71181d41a8bdd38",
       "version_major": 2,
       "version_minor": 0
      },
      "text/plain": [
       "HBox(children=(IntProgress(value=0, max=938), HTML(value='')))"
      ]
     },
     "metadata": {},
     "output_type": "display_data"
    },
    {
     "data": {
      "application/vnd.jupyter.widget-view+json": {
       "model_id": "93b3d7691521438ba15f560d7974ce52",
       "version_major": 2,
       "version_minor": 0
      },
      "text/plain": [
       "HBox(children=(IntProgress(value=0, max=938), HTML(value='')))"
      ]
     },
     "metadata": {},
     "output_type": "display_data"
    },
    {
     "data": {
      "application/vnd.jupyter.widget-view+json": {
       "model_id": "1ee923cf35b047f99761933fd8bcf2aa",
       "version_major": 2,
       "version_minor": 0
      },
      "text/plain": [
       "HBox(children=(IntProgress(value=0, max=938), HTML(value='')))"
      ]
     },
     "metadata": {},
     "output_type": "display_data"
    },
    {
     "data": {
      "application/vnd.jupyter.widget-view+json": {
       "model_id": "dbab5a9ba1684199ac46d3f6821d17b9",
       "version_major": 2,
       "version_minor": 0
      },
      "text/plain": [
       "HBox(children=(IntProgress(value=0, max=938), HTML(value='')))"
      ]
     },
     "metadata": {},
     "output_type": "display_data"
    },
    {
     "data": {
      "application/vnd.jupyter.widget-view+json": {
       "model_id": "3eac5da0c7ce44a5be400202726072c4",
       "version_major": 2,
       "version_minor": 0
      },
      "text/plain": [
       "HBox(children=(IntProgress(value=0, max=938), HTML(value='')))"
      ]
     },
     "metadata": {},
     "output_type": "display_data"
    }
   ],
   "source": [
    "dl = DataLoader(ds,batch_size=64,shuffle=True)\n",
    "for j in tnrange(5):\n",
    "    # make a generator out of dataloader\n",
    "    gen = iter(dl)\n",
    "    t =tqdm_notebook(range(len(dl)))\n",
    "    loss_ = 0\n",
    "    acc = 0\n",
    "    for i in t:\n",
    "        # get input data:x, supervising label:y\n",
    "        x,y = next(gen)\n",
    "        \n",
    "        # flatten x, just like keras's x = Flatten()(x)\n",
    "        bs = x.size()[0]\n",
    "        x = x.resize_(bs,28*28)\n",
    "        \n",
    "        optimizer.zero_grad()\n",
    "        \n",
    "        # forward path\n",
    "        y_ = mlp_01(x)\n",
    "        # calculate loss\n",
    "        loss = loss_func(y_,y)\n",
    "        \n",
    "        # back propagation (from loss to weights)\n",
    "        loss.backward()\n",
    "        optimizer.step()\n",
    "        \n",
    "        # Calculate metric: accuracy just to see how the model is in a percentage sense\n",
    "        loss_ += loss.item()\n",
    "        acc += accuracy(y_,y).item()\n",
    "        \n",
    "        if i%10==9:\n",
    "            acc /= 10; loss_ /= 10\n",
    "            t.set_postfix({\"😎accuracy\":acc,\"😎loss\":loss_,})\n",
    "            acc = 0; loss_ = 0\n",
    "        "
   ]
  },
  {
   "cell_type": "code",
   "execution_count": 325,
   "metadata": {},
   "outputs": [
    {
     "data": {
      "text/plain": [
       "tensor(4)"
      ]
     },
     "execution_count": 325,
     "metadata": {},
     "output_type": "execute_result"
    }
   ],
   "source": [
    "y_pred.argmax()"
   ]
  },
  {
   "cell_type": "markdown",
   "metadata": {},
   "source": [
    "### Steps with in a learning step\n",
    "\n",
    "Assume the model is $\\large y=f(x)$, This represent the entire model, whether it is LR, DNN, CNN, RNN. The parameters of the data is $\\large \\theta$. We want to feed $m$ rows of data, $\\large {x}_{m}, {y}_{m}$, pair by pair into the model, to change/optimize $\\large \\theta$.\n",
    "\n",
    "* Get the x, y data from generator, batch_size is number of rows of data/batch\n",
    "\n",
    "* Clean the gradients\n",
    "\n",
    "* Forward pass, predict a $\\large \\hat{y}$ using $\\large \\hat{y_{m}}=f(x_{m})$, it's telling the model to take a guess given $\\large x_{m}$, $\\large m$ means the current batch index\n",
    "\n",
    "* Calculate loss, comparing the predict label, with supervising/guide lining/correct label, $\\large L = CrossEntropy(\\hat{y},y)$\n",
    "\n",
    "* Using backward() function on loss to calculate gradients $\\large \\frac{\\partial L}{\\partial \\theta}$, to measure in which way $\\large \\theta$'s change can effect $\\large L$. \n",
    "\n",
    "* optimizer.step() to change $\\large \\theta$ in the direction for a tiny amount (learning rate $\\large \\alpha$)\n",
    "\n",
    "Machine learning is to repeatedly do the above step. It's basicly what pytorch do during a batch"
   ]
  },
  {
   "cell_type": "markdown",
   "metadata": {},
   "source": [
    "### Next Improvement\n",
    "\n",
    "* Make use of valid dataset\n",
    "* Wrapper for DL\n",
    "* Simple Convolution"
   ]
  },
  {
   "cell_type": "markdown",
   "metadata": {},
   "source": [
    "Uncomment the following and install the ray library"
   ]
  },
  {
   "cell_type": "code",
   "execution_count": null,
   "metadata": {},
   "outputs": [],
   "source": [
    "# import os\n",
    "# os.system(\"cd %s/lib/python3*/site-packages/;git clone https://github.com/raynardj/ray\"%(os.environ[\"_\"].split(\"/bin\")[0]))"
   ]
  },
  {
   "cell_type": "code",
   "execution_count": 169,
   "metadata": {},
   "outputs": [],
   "source": [
    "from ray import matchbox"
   ]
  },
  {
   "cell_type": "code",
   "execution_count": 193,
   "metadata": {},
   "outputs": [],
   "source": [
    "trainer = matchbox.Trainer(dataset=ds,val_dataset=ds_val,batch_size=64)"
   ]
  },
  {
   "cell_type": "code",
   "execution_count": 194,
   "metadata": {},
   "outputs": [],
   "source": [
    "def conv_block(in_,out_,ks=3):\n",
    "    \"\"\"\n",
    "    return one convolutional block\n",
    "    \"\"\"\n",
    "    return nn.Sequential(*[\n",
    "        nn.Conv2d(in_channels=in_,out_channels=out_,kernel_size=ks,padding=ks//2,bias=True),\n",
    "        nn.ReLU(),\n",
    "        nn.Conv2d(in_channels=out_,out_channels=out_,kernel_size=ks,padding=ks//2,bias=True),\n",
    "        nn.ReLU(),\n",
    "        nn.Conv2d(in_channels=out_,out_channels=out_,kernel_size=ks,padding=ks//2,bias=True),\n",
    "        nn.ReLU(),\n",
    "        nn.MaxPool2d(2),\n",
    "    ])\n",
    "\n",
    "class Flatten(nn.Module):\n",
    "    def forward(self, input):\n",
    "        \"\"\"\n",
    "        a pytorch version of Flatten layer\n",
    "        \"\"\"\n",
    "        return input.view(input.size(0), -1)"
   ]
  },
  {
   "cell_type": "markdown",
   "metadata": {},
   "source": [
    "### A sequential CNN(Convolution Neural Network) model"
   ]
  },
  {
   "cell_type": "code",
   "execution_count": 195,
   "metadata": {},
   "outputs": [],
   "source": [
    "cnn_01 = nn.Sequential(*[\n",
    "                        # The shape is (batch size, number of channels, height, width)\n",
    "                        conv_block(1,16), # shape in: (bs,1,28,28), out:(bs,16,14,14), grid size /2 because of max pooling\n",
    "                        conv_block(16,32), # shape in: (bs,16,3,3), out:(bs,32,7,7),\n",
    "                        conv_block(32,64), # shape in: (bs,32,7,7), out:(bs,64,3,3),\n",
    "                        Flatten(), # shape in:(bs,64,3,3), out: (bs,64*3*3), dimension reduced\n",
    "                        # The following are stardard MLP\n",
    "                        nn.Linear(64*3*3,256,bias=False),\n",
    "                        nn.BatchNorm1d(256),\n",
    "                        nn.ReLU(),\n",
    "                        nn.Dropout(.3),\n",
    "                        nn.Linear(256,10),\n",
    "                        nn.BatchNorm1d(10),\n",
    "                        nn.Softmax(dim=-1),\n",
    "                        ])\n",
    "optimizer = Adam(cnn_01.parameters(),lr = 0.001)"
   ]
  },
  {
   "cell_type": "code",
   "execution_count": 196,
   "metadata": {},
   "outputs": [],
   "source": [
    "def action(*args,**kwargs):\n",
    "    \"\"\"\n",
    "    Define each training step\n",
    "    \"\"\"\n",
    "    x,y = args[0]\n",
    "    \n",
    "    optimizer.zero_grad()\n",
    "    y_ = cnn_01(x)\n",
    "    \n",
    "    loss = loss_func(y_,y)\n",
    "    \n",
    "    loss.backward()\n",
    "    optimizer.step()\n",
    "    \n",
    "    return {\n",
    "        \"loss\":loss.item(),\n",
    "        \"acc\":accuracy(y_,y).item(),\n",
    "           }\n",
    "def val_action(*args,**kwargs):\n",
    "    \"\"\"\n",
    "    Define each validation step\n",
    "    \"\"\"\n",
    "    x,y = args[0]\n",
    "    y_ = cnn_01(x)\n",
    "    \n",
    "    loss = loss_func(y_,y)\n",
    "    return {\n",
    "        \"loss\":loss.item(),\n",
    "        \"acc\":accuracy(y_,y).item(),\n",
    "           }"
   ]
  },
  {
   "cell_type": "code",
   "execution_count": 197,
   "metadata": {},
   "outputs": [
    {
     "data": {
      "application/vnd.jupyter.widget-view+json": {
       "model_id": "4668e7a923074183b334b1ec8fcd546d",
       "version_major": 2,
       "version_minor": 0
      },
      "text/plain": [
       "HBox(children=(IntProgress(value=0, max=938), HTML(value='')))"
      ]
     },
     "metadata": {},
     "output_type": "display_data"
    },
    {
     "data": {
      "application/vnd.jupyter.widget-view+json": {
       "model_id": "4759b16c1b3e4c1f9611a2e90f9ace5f",
       "version_major": 2,
       "version_minor": 0
      },
      "text/plain": [
       "HBox(children=(IntProgress(value=0, max=157), HTML(value='')))"
      ]
     },
     "metadata": {},
     "output_type": "display_data"
    },
    {
     "data": {
      "application/vnd.jupyter.widget-view+json": {
       "model_id": "b3852b664e814ec88d88ad435fb768cf",
       "version_major": 2,
       "version_minor": 0
      },
      "text/plain": [
       "HBox(children=(IntProgress(value=0, max=938), HTML(value='')))"
      ]
     },
     "metadata": {},
     "output_type": "display_data"
    },
    {
     "data": {
      "application/vnd.jupyter.widget-view+json": {
       "model_id": "65d2755054b54d0eb8d09fd92297c988",
       "version_major": 2,
       "version_minor": 0
      },
      "text/plain": [
       "HBox(children=(IntProgress(value=0, max=157), HTML(value='')))"
      ]
     },
     "metadata": {},
     "output_type": "display_data"
    }
   ],
   "source": [
    "trainer.action = action\n",
    "trainer.val_action = val_action\n",
    "trainer.train(2)"
   ]
  },
  {
   "cell_type": "markdown",
   "metadata": {},
   "source": [
    "### Excersice No 1"
   ]
  },
  {
   "cell_type": "markdown",
   "metadata": {},
   "source": [
    "Build a model using conv block with Batch Normalization inside, here is the code to retuan a batchnormalzied conv block. you can use it for building model."
   ]
  },
  {
   "cell_type": "code",
   "execution_count": null,
   "metadata": {},
   "outputs": [],
   "source": [
    "def conv_block_bn(in_,out_,ks=3):\n",
    "    \"\"\"\n",
    "    return one convolutional block\n",
    "    \"\"\"\n",
    "    return nn.Sequential(*[\n",
    "        nn.Conv2d(in_channels=in_,out_channels=out_,kernel_size=ks,padding=ks//2,bias=False), \n",
    "        # changed bias to False, Batchnorm has param size just like previous layer's bias, sort of perform alike also\n",
    "        nn.BatchNorm2d(out_),\n",
    "        nn.ReLU(),\n",
    "        nn.Conv2d(in_channels=out_,out_channels=out_,kernel_size=ks,padding=ks//2,bias=False),\n",
    "        nn.BatchNorm2d(out_),\n",
    "        nn.ReLU(),\n",
    "        nn.Conv2d(in_channels=out_,out_channels=out_,kernel_size=ks,padding=ks//2,bias=False),\n",
    "        nn.BatchNorm2d(out_),\n",
    "        nn.ReLU(),\n",
    "        nn.MaxPool2d(2),\n",
    "    ])"
   ]
  },
  {
   "cell_type": "markdown",
   "metadata": {},
   "source": [
    "### Coord Conv Layer"
   ]
  },
  {
   "cell_type": "markdown",
   "metadata": {},
   "source": [
    "Use objective oriented programming to for the coord conv, it's a technique to blend in the positional information(coordinations) in the convolution layer. Check the [coord conv paper](http://arxiv.org/abs/1807.03247).\n",
    "\n",
    "Or check their [awesome blog post](https://eng.uber.com/coordconv/)\n",
    "\n",
    "![coord_conv pic](docs/coord_conv.png)"
   ]
  },
  {
   "cell_type": "code",
   "execution_count": 198,
   "metadata": {},
   "outputs": [],
   "source": [
    "import torch"
   ]
  },
  {
   "cell_type": "code",
   "execution_count": 238,
   "metadata": {},
   "outputs": [],
   "source": [
    "class add_coord(nn.Module):\n",
    "    def __init__(self):\n",
    "        super(add_coord,self).__init__()\n",
    "        \n",
    "    def forward(self,x):\n",
    "        bs,ch,h,w = x.size()\n",
    "        h_coord = torch.range(start = 0,end = h-1).unsqueeze(0).unsqueeze(0).unsqueeze(-1).repeat([bs,1,1,w])/(h/2)-1\n",
    "        w_coord = torch.range(start = 0,end = w-1).unsqueeze(0).unsqueeze(0).unsqueeze(0).repeat([bs,1,h,1])/(w/2)-1\n",
    "        return torch.cat([x,h_coord,w_coord],dim=1)\n",
    "    \n",
    "class Coord2d(nn.Module):\n",
    "    def __init__(self,in_channels,out_channels,kernel_size,stride=1,padding=0,dilation=1,groups=1,bias=True):\n",
    "        \"\"\"\n",
    "        Coord Convolution Module\n",
    "        Coord2d(in_channels,out_channels,kernel_size,stride=1,padding=0,dilation=1,groups=1,bias=True)\n",
    "        Use it just like using a normal pytorch nn.Module\n",
    "        \"\"\"\n",
    "        super(Coord2d,self).__init__()\n",
    "        self.add_coord = add_coord()\n",
    "        self.conv = nn.Conv2d(in_channels=in_channels+2,\n",
    "                              out_channels=out_channels,\n",
    "                              kernel_size=kernel_size,stride=stride,padding=padding,dilation=dilation,groups=groups,bias=bias)\n",
    "        \n",
    "    def forward(self,x):\n",
    "        x = self.add_coord(x)\n",
    "        for i in range(5):\n",
    "            x = self.ln1(x)\n",
    "        x = self.conv(x)\n",
    "        return x"
   ]
  },
  {
   "cell_type": "markdown",
   "metadata": {},
   "source": [
    "I have wrapped up the above Coord2d code into my personal tool library: [ray](https://github.com/raynardj/ray)\n",
    "\n",
    "From now on, you can from ray.matchbox_lego import Coord2d to use Coord2d module without writing the structure again"
   ]
  },
  {
   "cell_type": "markdown",
   "metadata": {},
   "source": [
    "### Coord Conv Explained:"
   ]
  },
  {
   "cell_type": "code",
   "execution_count": 328,
   "metadata": {},
   "outputs": [],
   "source": [
    "x = torch.rand(64,3,28,28)"
   ]
  },
  {
   "cell_type": "code",
   "execution_count": 329,
   "metadata": {},
   "outputs": [],
   "source": [
    "bs,ch,h,w = x.size()\n",
    "h_coord = torch.range(start = 0,end = h-1).unsqueeze(0).unsqueeze(0).unsqueeze(-1).repeat([bs,1,1,w])/(h/2)-1\n",
    "w_coord = torch.range(start = 0,end = w-1).unsqueeze(0).unsqueeze(0).unsqueeze(0).repeat([bs,1,h,1])/(w/2)-1"
   ]
  },
  {
   "cell_type": "code",
   "execution_count": 241,
   "metadata": {},
   "outputs": [
    {
     "data": {
      "text/plain": [
       "torch.Size([64, 1, 28, 28])"
      ]
     },
     "execution_count": 241,
     "metadata": {},
     "output_type": "execute_result"
    }
   ],
   "source": [
    "h_coord.size()"
   ]
  },
  {
   "cell_type": "code",
   "execution_count": 345,
   "metadata": {},
   "outputs": [
    {
     "data": {
      "text/plain": [
       "torch.Size([64, 5, 28, 28])"
      ]
     },
     "execution_count": 345,
     "metadata": {},
     "output_type": "execute_result"
    }
   ],
   "source": [
    "torch.cat([x,h_coord,w_coord],dim=1).size()"
   ]
  },
  {
   "cell_type": "code",
   "execution_count": 242,
   "metadata": {},
   "outputs": [],
   "source": [
    "def coord_block(in_,out_,ks=3):\n",
    "    \"\"\"\n",
    "    return one convolutional block\n",
    "    \"\"\"\n",
    "    return nn.Sequential(*[\n",
    "#         nn.Conv2d(in_channels=in_,out_channels=out_,kernel_size=ks,padding=ks//2,bias=False),\n",
    "        Coord2d(in_channels=in_,out_channels=out_,kernel_size=ks,padding=ks//2,bias=False), \n",
    "        nn.BatchNorm2d(out_),\n",
    "        nn.ReLU(),\n",
    "#         nn.Conv2d(in_channels=out_,out_channels=out_,kernel_size=ks,padding=ks//2,bias=False),\n",
    "        Coord2d(in_channels=out_,out_channels=out_,kernel_size=ks,padding=ks//2,bias=False),\n",
    "        nn.BatchNorm2d(out_),\n",
    "        nn.ReLU(),\n",
    "#         nn.Conv2d(in_channels=out_,out_channels=out_,kernel_size=ks,padding=ks//2,bias=False),\n",
    "        Coord2d(in_channels=out_,out_channels=out_,kernel_size=ks,padding=ks//2,bias=False),\n",
    "        nn.BatchNorm2d(out_),\n",
    "        nn.ReLU(),\n",
    "        nn.MaxPool2d(2),\n",
    "    ])"
   ]
  },
  {
   "cell_type": "markdown",
   "metadata": {},
   "source": [
    "The new model with coord conv"
   ]
  },
  {
   "cell_type": "code",
   "execution_count": 243,
   "metadata": {},
   "outputs": [],
   "source": [
    "cnn_coord = nn.Sequential(*[\n",
    "                        # The shape is (batch size, number of channels, height, width)\n",
    "                        coord_block(1,16), # shape in: (bs,1,28,28), out:(bs,16,14,14), grid size /2 because of max pooling\n",
    "                        coord_block(16,32), # shape in: (bs,16,3,3), out:(bs,32,7,7),\n",
    "                        coord_block(32,64), # shape in: (bs,32,7,7), out:(bs,64,3,3),\n",
    "                        Flatten(), # shape in:(bs,64,3,3), out: (bs,64*3*3), dimension reduced\n",
    "                        # The following are stardard MLP\n",
    "                        nn.Linear(64*3*3,256,bias=False),\n",
    "                        nn.BatchNorm1d(256),\n",
    "                        nn.ReLU(),\n",
    "                        nn.Dropout(.3),\n",
    "                        nn.Linear(256,10),\n",
    "                        nn.BatchNorm1d(10),\n",
    "                        nn.Softmax(dim=-1),\n",
    "                        ])\n",
    "optimizer = Adam(cnn_coord.parameters(),lr = 0.001)"
   ]
  },
  {
   "cell_type": "code",
   "execution_count": 244,
   "metadata": {},
   "outputs": [],
   "source": [
    "trainer_coord = matchbox.Trainer(dataset=ds,val_dataset=ds_val,batch_size=64)"
   ]
  },
  {
   "cell_type": "code",
   "execution_count": 245,
   "metadata": {},
   "outputs": [],
   "source": [
    "def action(*args,**kwargs):\n",
    "    \"\"\"\n",
    "    Define each training step\n",
    "    \"\"\"\n",
    "    x,y = args[0]\n",
    "    \n",
    "    optimizer.zero_grad()\n",
    "    y_ = cnn_coord(x)\n",
    "    \n",
    "    loss = loss_func(y_,y)\n",
    "    \n",
    "    loss.backward()\n",
    "    optimizer.step()\n",
    "    \n",
    "    return {\n",
    "        \"loss\":loss.item(),\n",
    "        \"acc\":accuracy(y_,y).item(),\n",
    "           }\n",
    "def val_action(*args,**kwargs):\n",
    "    \"\"\"\n",
    "    Define each validation step\n",
    "    \"\"\"\n",
    "    x,y = args[0]\n",
    "    y_ = cnn_coord(x)\n",
    "    \n",
    "    loss = loss_func(y_,y)\n",
    "    return {\n",
    "        \"loss\":loss.item(),\n",
    "        \"acc\":accuracy(y_,y).item(),\n",
    "           }"
   ]
  },
  {
   "cell_type": "code",
   "execution_count": 246,
   "metadata": {},
   "outputs": [
    {
     "data": {
      "application/vnd.jupyter.widget-view+json": {
       "model_id": "7d93bb21816e470ab4eab6dd9d7a2bd0",
       "version_major": 2,
       "version_minor": 0
      },
      "text/plain": [
       "HBox(children=(IntProgress(value=0, max=938), HTML(value='')))"
      ]
     },
     "metadata": {},
     "output_type": "display_data"
    },
    {
     "data": {
      "application/vnd.jupyter.widget-view+json": {
       "model_id": "1b23bc4f07044babbfedac9d0b89df4c",
       "version_major": 2,
       "version_minor": 0
      },
      "text/plain": [
       "HBox(children=(IntProgress(value=0, max=157), HTML(value='')))"
      ]
     },
     "metadata": {},
     "output_type": "display_data"
    },
    {
     "data": {
      "application/vnd.jupyter.widget-view+json": {
       "model_id": "718a43ed2fa948f49c691a2c10c141fa",
       "version_major": 2,
       "version_minor": 0
      },
      "text/plain": [
       "HBox(children=(IntProgress(value=0, max=938), HTML(value='')))"
      ]
     },
     "metadata": {},
     "output_type": "display_data"
    },
    {
     "data": {
      "application/vnd.jupyter.widget-view+json": {
       "model_id": "dfc385b7be214bf489a3f14efa8649d9",
       "version_major": 2,
       "version_minor": 0
      },
      "text/plain": [
       "HBox(children=(IntProgress(value=0, max=157), HTML(value='')))"
      ]
     },
     "metadata": {},
     "output_type": "display_data"
    }
   ],
   "source": [
    "trainer_coord.action = action\n",
    "trainer_coord.val_action = val_action\n",
    "trainer_coord.train(2)"
   ]
  },
  {
   "cell_type": "markdown",
   "metadata": {},
   "source": [
    "### Excercise\n",
    "\n",
    "* Redo the course with your own code.\n",
    "* Try change the filter numbers, batch size, model structure, to achieve better result"
   ]
  },
  {
   "cell_type": "code",
   "execution_count": null,
   "metadata": {},
   "outputs": [],
   "source": []
  }
 ],
 "metadata": {
  "kernelspec": {
   "display_name": "Python 3",
   "language": "python",
   "name": "python3"
  },
  "language_info": {
   "codemirror_mode": {
    "name": "ipython",
    "version": 3
   },
   "file_extension": ".py",
   "mimetype": "text/x-python",
   "name": "python",
   "nbconvert_exporter": "python",
   "pygments_lexer": "ipython3",
   "version": "3.6.5"
  }
 },
 "nbformat": 4,
 "nbformat_minor": 2
}
