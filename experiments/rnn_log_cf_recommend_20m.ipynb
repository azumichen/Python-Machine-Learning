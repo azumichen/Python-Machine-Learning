{
 "cells": [
  {
   "cell_type": "markdown",
   "metadata": {},
   "source": [
    "## 20Mn data MovieLens Experiment"
   ]
  },
  {
   "cell_type": "code",
   "execution_count": 1,
   "metadata": {},
   "outputs": [],
   "source": [
    "import pandas as pd\n",
    "import numpy as np\n",
    "import torch\n",
    "from torch import nn\n",
    "from torch.nn import functional as F\n",
    "from torch.optim import Adam"
   ]
  },
  {
   "cell_type": "code",
   "execution_count": 2,
   "metadata": {},
   "outputs": [
    {
     "name": "stdout",
     "output_type": "stream",
     "text": [
      "[task:experiment with RNN+CF on movielens 20m data>>start]<2018-09-27_04:04:17|0s,0s>\t\n"
     ]
    }
   ],
   "source": [
    "from ray.lprint import lprint\n",
    "l = lprint(\"experiment with RNN+CF on movielens 20m data\")"
   ]
  },
  {
   "cell_type": "code",
   "execution_count": 3,
   "metadata": {},
   "outputs": [
    {
     "name": "stdout",
     "output_type": "stream",
     "text": [
      "[has GPU cuda]<2018-09-27_04:04:18|0s,0s>\tTrue\n"
     ]
    }
   ],
   "source": [
    "CUDA = torch.cuda.is_available()\n",
    "SEQ_LEN = 19\n",
    "DIM = 100\n",
    "l.p(\"has GPU cuda\",CUDA)"
   ]
  },
  {
   "cell_type": "code",
   "execution_count": 4,
   "metadata": {},
   "outputs": [],
   "source": [
    "# %ls /data/ml-20m"
   ]
  },
  {
   "cell_type": "code",
   "execution_count": 5,
   "metadata": {},
   "outputs": [],
   "source": [
    "DATA = \"/data/ml-20m/ratings.csv\""
   ]
  },
  {
   "cell_type": "code",
   "execution_count": 6,
   "metadata": {},
   "outputs": [
    {
     "name": "stdout",
     "output_type": "stream",
     "text": [
      "[loading csv file]<2018-09-27_04:04:18|0s,0s>\t/data/ml-20m/ratings.csv\n",
      "[csv file loaded]<2018-09-27_04:04:24|6s,6s>\t\n"
     ]
    }
   ],
   "source": [
    "l.p(\"loading csv file\", DATA)\n",
    "rate_df = pd.read_csv(DATA)\n",
    "l.p(\"csv file loaded\")"
   ]
  },
  {
   "cell_type": "code",
   "execution_count": 7,
   "metadata": {},
   "outputs": [
    {
     "data": {
      "text/plain": [
       "20000263"
      ]
     },
     "execution_count": 7,
     "metadata": {},
     "output_type": "execute_result"
    }
   ],
   "source": [
    "len(rate_df)"
   ]
  },
  {
   "cell_type": "code",
   "execution_count": 8,
   "metadata": {},
   "outputs": [
    {
     "data": {
      "text/plain": [
       "20"
      ]
     },
     "execution_count": 8,
     "metadata": {},
     "output_type": "execute_result"
    }
   ],
   "source": [
    "rate_df.groupby(\"userId\").count()[\"movieId\"].min()\n",
    "# The minimum number of movies a user have rated"
   ]
  },
  {
   "cell_type": "code",
   "execution_count": 9,
   "metadata": {},
   "outputs": [
    {
     "name": "stdout",
     "output_type": "stream",
     "text": [
      "total number of users and movies:\t 138493 \t 26744\n"
     ]
    }
   ],
   "source": [
    "userId = list(set(rate_df[\"userId\"]))\n",
    "movieId = list(set(rate_df[\"movieId\"]))\n",
    "print(\"total number of users and movies:\\t\",len(userId),\"\\t\",len(movieId))"
   ]
  },
  {
   "cell_type": "code",
   "execution_count": 10,
   "metadata": {},
   "outputs": [
    {
     "name": "stdout",
     "output_type": "stream",
     "text": [
      "[making dictionary]<2018-09-27_04:04:27|3s,9s>\t\n"
     ]
    }
   ],
   "source": [
    "l.p(\"making dictionary\")\n",
    "u2i = dict((v,k) for k,v in enumerate(userId))\n",
    "m2i = dict((v,k) for k,v in enumerate(movieId))\n",
    "i2u = dict((k,v) for k,v in enumerate(userId))\n",
    "i2m = dict((k,v) for k,v in enumerate(movieId))"
   ]
  },
  {
   "cell_type": "code",
   "execution_count": 11,
   "metadata": {},
   "outputs": [],
   "source": [
    "rate_df[\"movieIdx\"] = rate_df.movieId.apply(lambda x:m2i[x]).astype(int)\n",
    "rate_df[\"userIdx\"] = rate_df.userId.apply(lambda x:u2i[x]).astype(int)\n",
    "rate_df[\"rating\"] = rate_df[\"rating\"]/5"
   ]
  },
  {
   "cell_type": "code",
   "execution_count": 12,
   "metadata": {},
   "outputs": [
    {
     "name": "stdout",
     "output_type": "stream",
     "text": [
      "[making train/test split]<2018-09-27_04:04:41|14s,24s>\t\n"
     ]
    }
   ],
   "source": [
    "l.p(\"making train/test split\")\n",
    "user_count = len(userId)\n",
    "valid_split = np.random.rand(user_count)>.9\n",
    "train_idx = np.array(range(user_count))[~valid_split]\n",
    "valid_idx = np.array(range(user_count))[valid_split]\n",
    "\n",
    "train_df = rate_df[rate_df.userId.isin(train_idx)]\n",
    "valid_df = rate_df[rate_df.userId.isin(valid_idx)]"
   ]
  },
  {
   "cell_type": "markdown",
   "metadata": {},
   "source": [
    "Since user id mapping doesn't matter any more.\n",
    "\n",
    "It's easier to make a dataset with contineous user_id."
   ]
  },
  {
   "cell_type": "code",
   "execution_count": null,
   "metadata": {},
   "outputs": [
    {
     "name": "stderr",
     "output_type": "stream",
     "text": [
      "/home/paperspace/anaconda3/envs/fastai/lib/python3.6/site-packages/ipykernel_launcher.py:3: SettingWithCopyWarning: \n",
      "A value is trying to be set on a copy of a slice from a DataFrame.\n",
      "Try using .loc[row_indexer,col_indexer] = value instead\n",
      "\n",
      "See the caveats in the documentation: http://pandas.pydata.org/pandas-docs/stable/indexing.html#indexing-view-versus-copy\n",
      "  This is separate from the ipykernel package so we can avoid doing imports until\n",
      "/home/paperspace/anaconda3/envs/fastai/lib/python3.6/site-packages/ipykernel_launcher.py:4: SettingWithCopyWarning: \n",
      "A value is trying to be set on a copy of a slice from a DataFrame.\n",
      "Try using .loc[row_indexer,col_indexer] = value instead\n",
      "\n",
      "See the caveats in the documentation: http://pandas.pydata.org/pandas-docs/stable/indexing.html#indexing-view-versus-copy\n",
      "  after removing the cwd from sys.path.\n"
     ]
    }
   ],
   "source": [
    "train_u2i = dict((v,k) for k,v in enumerate(set(train_df.userId)))\n",
    "valid_u2i = dict((v,k) for k,v in enumerate(set(valid_df.userId)))\n",
    "train_df[\"userId\"] = train_df.userId.apply(lambda x:train_u2i[x])\n",
    "valid_df[\"userId\"] = valid_df.userId.apply(lambda x:valid_u2i[x])"
   ]
  },
  {
   "cell_type": "code",
   "execution_count": null,
   "metadata": {},
   "outputs": [
    {
     "name": "stdout",
     "output_type": "stream",
     "text": [
      "[generating groubby slice]<2018-09-27_04:04:52|11s,35s>\t\n"
     ]
    }
   ],
   "source": [
    "l.p(\"generating groubby slice\")\n",
    "def get_user_trail(rate_df):\n",
    "    return rate_df.sort_values(by=[\"userId\",\"timestamp\"]).groupby(\"userId\")\n",
    "    #gb.apply(lambda x:x.sample(n = 20, replace = False))\n",
    "gb = get_user_trail(rate_df)\n",
    "train_gb = get_user_trail(train_df)\n",
    "valid_gb = get_user_trail(valid_df)"
   ]
  },
  {
   "cell_type": "code",
   "execution_count": null,
   "metadata": {},
   "outputs": [],
   "source": [
    "from torch.utils.data.dataset import Dataset\n",
    "from torch.utils.data.dataloader import DataLoader"
   ]
  },
  {
   "cell_type": "code",
   "execution_count": null,
   "metadata": {},
   "outputs": [],
   "source": [
    "pick_k = np.array([0]*SEQ_LEN +[1])==1"
   ]
  },
  {
   "cell_type": "code",
   "execution_count": null,
   "metadata": {},
   "outputs": [],
   "source": [
    "def sample_split(x):\n",
    "    sampled = x.sample(n = 20, replace = False)\n",
    "    seq = sampled.head(19).sort_values(by=\"timestamp\")\n",
    "    y = sampled[pick_k]\n",
    "    return pd.concat([seq,y])\n",
    "\n",
    "class rnn_record(Dataset):\n",
    "    def __init__(self, gb):\n",
    "        self.gb = gb\n",
    "        self.make_seq()\n",
    "    \n",
    "    def make_seq(self):\n",
    "        self.all_seq = self.gb.apply(sample_split)\n",
    "        \n",
    "    def __len__(self):\n",
    "        return len(self.gb)\n",
    "        \n",
    "    def __getitem__(self,idx):\n",
    "        df = self.all_seq.loc[idx]\n",
    "        seq = df.head(19)[[\"movieIdx\",\"rating\"]].values\n",
    "        targ = df[pick_k][[\"movieIdx\",\"rating\"]].values\n",
    "        targ_v, targ_y =targ[:,0], targ[:,1]\n",
    "        return idx,seq,targ_v,targ_y\n",
    "\n",
    "# ds = rnn_record(gb)\n",
    "l.p(\"generating dataset\",\"train\")\n",
    "train_ds = rnn_record(train_gb)\n",
    "l.p(\"generating dataset\",\"valid\")\n",
    "valid_ds = rnn_record(valid_gb)\n",
    "l.p(\"dataset generated\")"
   ]
  },
  {
   "cell_type": "markdown",
   "metadata": {},
   "source": [
    "### Model"
   ]
  },
  {
   "cell_type": "code",
   "execution_count": null,
   "metadata": {},
   "outputs": [],
   "source": [
    "class mLinkNet(nn.Module):\n",
    "    def __init__(self, hidden_size,v_size):\n",
    "        \"\"\"\n",
    "        mLinkNet, short for missing link net\n",
    "        \"\"\"\n",
    "        super(mLinkNet,self).__init__()\n",
    "        self.hidden_size = hidden_size\n",
    "        self.v_size = v_size\n",
    "        self.emb = nn.Embedding(v_size,hidden_size)\n",
    "        \n",
    "        self.rnn = nn.GRU(input_size = self.hidden_size+1,\n",
    "                          hidden_size= hidden_size+1,\n",
    "                          num_layers=1,\n",
    "                          batch_first = True,\n",
    "                          dropout=0)\n",
    "        \n",
    "        self.mlp = nn.Sequential(*[\n",
    "            nn.Dropout(.3),\n",
    "            nn.Linear(hidden_size*2 + 1, 256, bias=False),\n",
    "            nn.BatchNorm1d(256),\n",
    "            nn.Linear(256,1,bias=False),\n",
    "            nn.Sigmoid(),\n",
    "        ])\n",
    "    \n",
    "    def forward(self,seq,targ_v):\n",
    "        seq_vec = torch.cat([self.emb(seq[:,0].long()),\n",
    "                             seq[:,1].unsqueeze(-1).float()], dim=2)\n",
    "        output, hn = self.rnn(seq_vec)\n",
    "        x = torch.cat([hn.squeeze(0),self.emb(targ_v.long()).squeeze(1)],dim=1)\n",
    "        return self.mlp(x)"
   ]
  },
  {
   "cell_type": "code",
   "execution_count": null,
   "metadata": {},
   "outputs": [],
   "source": [
    "l.p(\"creating model\")\n",
    "mln = mLinkNet(hidden_size = DIM, \n",
    "               v_size = len(movieId))\n",
    "if CUDA:\n",
    "    l.p(\"loading model to GPU\")\n",
    "    torch.cuda.empty_cache()\n",
    "    mln.cuda()\n",
    "    \n",
    "from ray.matchbox import Trainer\n",
    "opt = Adam(mln.parameters())\n",
    "loss_func = nn.MSELoss()\n",
    "trainer = Trainer(train_ds, val_dataset=valid_ds, batch_size=16, print_on=3)"
   ]
  },
  {
   "cell_type": "code",
   "execution_count": null,
   "metadata": {},
   "outputs": [],
   "source": [
    "train_len = len(trainer.train_data)\n",
    "valid_len = len(trainer.val_data)\n",
    "l.p(\"train_len\",train_len)\n",
    "l.p(\"valid_len\",valid_len)\n",
    "def action(*args,**kwargs):\n",
    "    # get data from data feeder\n",
    "    idx,seq,targ_v,y = args[0]\n",
    "    if CUDA:\n",
    "        seq,targ_v,y = seq.cuda(),targ_v.cuda(),y.cuda()\n",
    "    y = y.float()\n",
    "    \n",
    "    # Clear the Jacobian Matrix\n",
    "    opt.zero_grad()\n",
    "    \n",
    "    # Predict y hat\n",
    "    y_ = mln(seq, targ_v)\n",
    "    # Calculate Loss\n",
    "    loss = loss_func(y_,y)\n",
    "    \n",
    "    # Backward Propagation\n",
    "    loss.backward()\n",
    "    opt.step()\n",
    "    # Mean Absolute Loss as print out metrics\n",
    "    mae = torch.mean(torch.abs(y_-y))\n",
    "    if kwargs[\"ite\"] == train_len - 1: # resample the sequence\n",
    "        trainer.train_data.dataset.make_seq()\n",
    "    return {\"loss\":loss.item(),\"mae\":mae.item()}\n",
    "\n",
    "def val_action(*args,**kwargs):\n",
    "    \"\"\"\n",
    "    A validation step\n",
    "    Exactly the same like train step, but no learning, only forward pass\n",
    "    \"\"\"\n",
    "    idx,seq,targ_v,y = args[0]\n",
    "    if CUDA:\n",
    "        seq,targ_v,y = seq.cuda(),targ_v.cuda(),y.cuda()\n",
    "    y = y.float()\n",
    "    \n",
    "    y_ = mln(seq, targ_v)\n",
    "    \n",
    "    loss = loss_func(y_,y)\n",
    "    mae = torch.mean(torch.abs(y_-y))\n",
    "    if kwargs[\"ite\"] == valid_len - 1:\n",
    "        trainer.val_data.dataset.make_seq()\n",
    "    return {\"loss\":loss.item(),\"mae\":mae.item()}\n",
    "trainer.action  = action\n",
    "trainer.val_action  = val_action"
   ]
  },
  {
   "cell_type": "code",
   "execution_count": null,
   "metadata": {},
   "outputs": [],
   "source": [
    "l.p(\"start training\")\n",
    "trainer.train(2)\n",
    "l.p(\"training finished\")"
   ]
  },
  {
   "cell_type": "code",
   "execution_count": null,
   "metadata": {},
   "outputs": [],
   "source": []
  }
 ],
 "metadata": {
  "kernelspec": {
   "display_name": "Python 3",
   "language": "python",
   "name": "python3"
  },
  "language_info": {
   "codemirror_mode": {
    "name": "ipython",
    "version": 3
   },
   "file_extension": ".py",
   "mimetype": "text/x-python",
   "name": "python",
   "nbconvert_exporter": "python",
   "pygments_lexer": "ipython3",
   "version": "3.6.4"
  }
 },
 "nbformat": 4,
 "nbformat_minor": 2
}
