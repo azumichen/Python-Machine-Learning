{
 "cells": [
  {
   "cell_type": "markdown",
   "metadata": {},
   "source": [
    "Azumi Chen's Note from the course"
   ]
  },
  {
   "cell_type": "markdown",
   "metadata": {},
   "source": [
    "Python is beautifully simple for programer.\n",
    "\n",
    "This is python, we are not going to start with \"Hello World\", but math\n",
    "\n",
    "for starter, What's the answer to the life, the universe and everything?\n",
    "\n",
    "Click the following cell, Press\"Shift + Enter\", you can get the answer from simple math operation"
   ]
  },
  {
   "cell_type": "code",
   "execution_count": null,
   "metadata": {
    "collapsed": true
   },
   "outputs": [],
   "source": [
    "6*7"
   ]
  },
  {
   "cell_type": "markdown",
   "metadata": {},
   "source": [
    "now quickly give me the answer for these questions"
   ]
  },
  {
   "cell_type": "markdown",
   "metadata": {},
   "source": [
    "Solve \"2 4 2 2\" for 24\n",
    "\n",
    "Don't worry, simple math operations like  + - * / () works in a very straightforward way in python"
   ]
  },
  {
   "cell_type": "code",
   "execution_count": null,
   "metadata": {
    "collapsed": true
   },
   "outputs": [],
   "source": []
  },
  {
   "cell_type": "markdown",
   "metadata": {},
   "source": [
    "Kindly give me the square root of 6084\n",
    "\n",
    "If don't know how, google \"python square root\" (Secret ingredient of being an excellent python programmer)"
   ]
  },
  {
   "cell_type": "code",
   "execution_count": null,
   "metadata": {
    "collapsed": true
   },
   "outputs": [],
   "source": []
  },
  {
   "cell_type": "markdown",
   "metadata": {},
   "source": [
    "You are learning python in a powerful application called jupyter.\n",
    "\n",
    "Shift+Enter:Run the code in this cell and move on to the next cell\n",
    "Ctrl+Enter:Run the code in this cell and stay in this cell\n",
    "\n",
    "##### When the cell border is green, you can edit the cell\n",
    "\n",
    "##### When the cell border is blue, most keys you touch will triger a special operation. Like \n",
    "\n",
    "a: insert a cell \"a\"bove, \n",
    "\n",
    "b: insert a cell \"b\"low,\n",
    "\n",
    "h: \"h\"elp on these lovely shortcuts\n",
    "\n",
    "dd: \"d\"elete the cell\n",
    "\n",
    "c: \"c\"opy this cell"
   ]
  },
  {
   "cell_type": "markdown",
   "metadata": {},
   "source": [
    "Assume you already know \n",
    "\n",
    "\"import math\"\n",
    "\n",
    "\"import\", allows python works with verious tools(library/module)\n",
    "\n",
    "The easiness of python importing tools are what makes it the favourite programming language for many developers\n",
    "\n",
    "Want to do numeric calculation? import numpy\n",
    "\n",
    "Want to do scientific calculation? import scipy\n",
    "\n",
    "Want to manipulate time? import time\n",
    "\n",
    "The list goes on, mostly you'll find a library with a name, that you can see it's just an ordinary English word with the letters \"py\" scrambled into it."
   ]
  },
  {
   "cell_type": "markdown",
   "metadata": {},
   "source": [
    "## Variables"
   ]
  },
  {
   "cell_type": "markdown",
   "metadata": {},
   "source": [
    "Variable is a name you can carry the value.\n",
    "\n",
    "With Variable you can focus on ideas, not a specific value\n",
    "\n",
    "Now please assign a number value to this r (radius)"
   ]
  },
  {
   "cell_type": "code",
   "execution_count": 6,
   "metadata": {
    "collapsed": true
   },
   "outputs": [],
   "source": [
    "r="
   ]
  },
  {
   "cell_type": "markdown",
   "metadata": {},
   "source": [
    "Then we can calculate the Area of this circle\n",
    "\n",
    "Notice r could be any real number, now you can use this calculation repetitively with different r"
   ]
  },
  {
   "cell_type": "code",
   "execution_count": 8,
   "metadata": {
    "collapsed": true
   },
   "outputs": [],
   "source": [
    "import math\n",
    "A=math.pi*(r**2)\n",
    "print(A)"
   ]
  },
  {
   "cell_type": "markdown",
   "metadata": {},
   "source": [
    "Print will show the content in the response/console"
   ]
  },
  {
   "cell_type": "markdown",
   "metadata": {},
   "source": [
    "One amazing/stupid thing about python is , you don't have to declare the type of a variable\n",
    "\n",
    "Python will try to figure out, that makes your assigment codes very reader-friendly\n",
    "\n",
    "Python is inherently designed to make you code faster\n",
    "\n",
    "Run the following code to assign variables"
   ]
  },
  {
   "cell_type": "code",
   "execution_count": 15,
   "metadata": {
    "collapsed": true
   },
   "outputs": [],
   "source": [
    "# This is a String:str\n",
    "username=\"Macbeth\"\n",
    "# Integer:int\n",
    "password=9635072\n",
    "# Booleen: bool\n",
    "doIlookfat=False\n",
    "# List: list\n",
    "guestlist=[\"Duncan\",\"Malcom\",\"Donalbain\"]\n",
    "# Dictionary:dict\n",
    "killGuest=dict({\n",
    "    \"Duncan\":True,\n",
    "    \"Malcom\":False,\n",
    "    \"Donalbain\":False,\n",
    "    })"
   ]
  },
  {
   "cell_type": "markdown",
   "metadata": {},
   "source": [
    "use type() you can see which type it is"
   ]
  },
  {
   "cell_type": "code",
   "execution_count": 17,
   "metadata": {
    "collapsed": true
   },
   "outputs": [],
   "source": [
    "type(username),type(password),type(doIlookfat),type(guestlist),type(killGuest)"
   ]
  },
  {
   "cell_type": "markdown",
   "metadata": {},
   "source": [
    "You can enforce a type with the above types you've just learnt"
   ]
  },
  {
   "cell_type": "code",
   "execution_count": 19,
   "metadata": {
    "collapsed": true
   },
   "outputs": [],
   "source": [
    "password=str(9635072)\n",
    "type(password)"
   ]
  },
  {
   "cell_type": "markdown",
   "metadata": {},
   "source": [
    "Enforcing a list could lead to interesting result"
   ]
  },
  {
   "cell_type": "code",
   "execution_count": 21,
   "metadata": {
    "collapsed": true
   },
   "outputs": [],
   "source": [
    "list(\"scatter!\")"
   ]
  },
  {
   "cell_type": "markdown",
   "metadata": {},
   "source": [
    "## List"
   ]
  },
  {
   "cell_type": "markdown",
   "metadata": {},
   "source": [
    "I did mention list, list is the most frequent used iterable in python\n",
    "\n",
    "You can create a list by the following methods"
   ]
  },
  {
   "cell_type": "code",
   "execution_count": 34,
   "metadata": {
    "collapsed": true
   },
   "outputs": [],
   "source": [
    "a=list([0,1,2,3,4])\n",
    "\n",
    "# or save the list()\n",
    "b=[5,6,7]\n",
    "\n",
    "c=list(range(15))\n",
    "\n",
    "d=list(range(8,10))\n",
    "\n",
    "# print list a,b,c,d\n",
    "print(\"a:\\t\",a)\n",
    "print(\"b:\\t\",b)\n",
    "print(\"c:\\t\",c)\n",
    "print(\"d:\\t\",d)"
   ]
  },
  {
   "cell_type": "markdown",
   "metadata": {},
   "source": [
    "Notice list c start with 0, tattoo this on your brain: computers count from 0"
   ]
  },
  {
   "cell_type": "markdown",
   "metadata": {},
   "source": [
    "Why do we have need list? Because we can store and manipulate a group of things"
   ]
  },
  {
   "cell_type": "code",
   "execution_count": 37,
   "metadata": {
    "collapsed": true
   },
   "outputs": [],
   "source": [
    "# we can have every number in a squared\n",
    "print(list(i**2 for i in a))\n",
    "\n",
    "# we can have every letter doubled in a word\n",
    "print(\"\".join(list(i+i for i in list(\"Luke, I am your father\"))))"
   ]
  },
  {
   "cell_type": "markdown",
   "metadata": {},
   "source": [
    "How python run through iterations is an awefully tasty topic, we'll talk about it later.\n",
    "\n",
    "For now just bear in mind it's designed for efficient(/lazy) folks like us"
   ]
  },
  {
   "cell_type": "markdown",
   "metadata": {},
   "source": [
    "For basics, you need to know a list instance, like a,b,c,d can perform like following\n",
    "\n",
    "Don's just press shift+enter, toy with them a little bit yourself"
   ]
  },
  {
   "cell_type": "code",
   "execution_count": null,
   "metadata": {
    "collapsed": true
   },
   "outputs": [],
   "source": [
    "print(c[2])\n",
    "\n",
    "\n",
    "print(a+b+c)\n",
    "\n",
    "# Count the elements 2\n",
    "print(c.count(2))\n",
    "\n",
    "# Stick an element by the end\n",
    "d.append(\"tail\")\n",
    "print(d)"
   ]
  },
  {
   "cell_type": "markdown",
   "metadata": {},
   "source": [
    "List is designed with many functions,\n",
    "\n",
    "You can always google or try the following menu:"
   ]
  },
  {
   "cell_type": "code",
   "execution_count": null,
   "metadata": {
    "collapsed": true
   },
   "outputs": [],
   "source": [
    "help(list)"
   ]
  },
  {
   "cell_type": "markdown",
   "metadata": {},
   "source": [
    "## Now some excercise and torture sure wouldn't kill you:"
   ]
  },
  {
   "cell_type": "markdown",
   "metadata": {},
   "source": [
    "1. Return a list counting from 6 to the square of 333\n",
    "2. Return a list consists of 98 \"t\"\n",
    "3. Return a list consists of number from 9 to 72, with number 13 changed into \"traitor\"\n",
    "4. Return a list counts from 101 to 0, yes, backwards\n",
    "5. What is the character length of sentence \"I got my first real six-string, Bought it at the five-and-dime\"\n",
    "6. Count how many s in that sentence\n",
    "7. Count how many i in that sentence, including (upper and lower case)"
   ]
  },
  {
   "cell_type": "markdown",
   "metadata": {},
   "source": [
    "Hint:\n",
    "\n",
    "google:\n",
    "\n",
    "length of string python\n",
    "\n",
    "upper lower case python\n",
    "\n",
    "..."
   ]
  },
  {
   "cell_type": "code",
   "execution_count": null,
   "metadata": {
    "collapsed": true
   },
   "outputs": [],
   "source": []
  }
 ],
 "metadata": {
  "kernelspec": {
   "display_name": "Python 3",
   "language": "python",
   "name": "python3"
  },
  "language_info": {
   "codemirror_mode": {
    "name": "ipython",
    "version": 3
   },
   "file_extension": ".py",
   "mimetype": "text/x-python",
   "name": "python",
   "nbconvert_exporter": "python",
   "pygments_lexer": "ipython3",
   "version": "3.6.1"
  }
 },
 "nbformat": 4,
 "nbformat_minor": 2
}
