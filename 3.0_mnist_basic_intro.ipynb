{
 "cells": [
  {
   "cell_type": "markdown",
   "metadata": {},
   "source": [
    "# \"Hello World\" of machine learning"
   ]
  },
  {
   "cell_type": "markdown",
   "metadata": {},
   "source": [
    "Today we try MNIST, the \"hello world\" of machine learning\n",
    "\n",
    "\n",
    "* Underfitting and overfitting, train/valid dataset",
    "* MNIST dataset\n",
    "* Linear model\n",
    "* Non-Linear deep multilayer peceptron moel\n",
    "\n",
    "Tensorflow has a default way to load MNIST data set;"
   ]
  },
  {
   "cell_type": "code",
   "execution_count": 1,
   "metadata": {},
   "outputs": [
    {
     "name": "stdout",
     "output_type": "stream",
     "text": [
      "Extracting MNIST_data/train-images-idx3-ubyte.gz\n",
      "Extracting MNIST_data/train-labels-idx1-ubyte.gz\n",
      "Extracting MNIST_data/t10k-images-idx3-ubyte.gz\n",
      "Extracting MNIST_data/t10k-labels-idx1-ubyte.gz\n"
     ]
    }
   ],
   "source": [
    "import tensorflow\n",
    "from tensorflow.examples.tutorials.mnist import input_data\n",
    "mnist = input_data.read_data_sets(\"MNIST_data/\", one_hot=True)\n",
    "import numpy as np\n",
    "%matplotlib inline"
   ]
  },
  {
   "cell_type": "code",
   "execution_count": 37,
   "metadata": {
    "collapsed": true
   },
   "outputs": [],
   "source": [
    "x_train=mnist.train.images\n",
    "y_train=mnist.train.labels"
   ]
  },
  {
   "cell_type": "markdown",
   "metadata": {},
   "source": [
    "### Underfitting and overfitting\n",
    "\n",
    "Well, in machine learning, we always seperate a small group of x,y pairs\n",
    "\n",
    "And call then **validation data**.\n",
    "\n",
    "When we are training using the training data, we don't want them to overfit.\n",
    "\n",
    "To explain overfiting in very simple language, imagine your model is a child, he's learning in school about reading number.(Hence the term machine learning...). The training data is like the knowledge we teach him in school. But we have no idea how good he will perform outside of school. So we have something called validation data, and we totally kept these data away from this kid during the training. And we use the validation data, which he has not seen before, to exam this child.\n",
    "\n",
    "* Now, if the kid score highly in school, but perform poorly in society(validation data) on this task, we call it **overfitting**\n",
    "\n",
    "* If the kid score highly in school, and perform well in society, we say this model can **generalize well**.\n",
    "\n",
    "* If the kid score poorly even in school, we call this **underfitting**.\n",
    "\n",
    "The following image is often used when explain this idea\n",
    "\n",
    "If we measure by mean square error(mse) between estimated y and real y, the third image's mse is definitely the smallest. But the model is learning too much into the data, and won't generalize well outside of training data\n",
    "\n",
    "<img src='https://www.analyticsvidhya.com/wp-content/uploads/2015/02/underfitting-overfitting.png'>"
   ]
  },
  {
   "cell_type": "code",
   "execution_count": 39,
   "metadata": {},
   "outputs": [
    {
     "data": {
      "text/plain": [
       "((5000, 784), (5000, 10))"
      ]
     },
     "execution_count": 39,
     "metadata": {},
     "output_type": "execute_result"
    }
   ],
   "source": [
    "x_valid=mnist.validation.images\n",
    "y_valid=mnist.validation.labels\n",
    "x_valid.shape,y_valid.shape"
   ]
  },
  {
   "cell_type": "code",
   "execution_count": 6,
   "metadata": {
    "collapsed": true
   },
   "outputs": [],
   "source": [
    "# you don't have to worry the following piece of code in this cell\n",
    "# We simply build a function, to plot number arrays to image\n",
    "# The visualization isn't the point of this class\n",
    "# just load the function, then you can use plot(input_image_array), and shift enter, it will show the image in notebook\n",
    "def plots(ims, interp=False, titles=None):\n",
    "    ims=np.array(ims)\n",
    "    mn,mx=ims.min(),ims.max()\n",
    "    f = plt.figure(figsize=(12,24))\n",
    "    for i in range(len(ims)):\n",
    "        sp=f.add_subplot(1, len(ims), i+1)\n",
    "        if not titles is None: sp.set_title(titles[i], fontsize=18)\n",
    "        plt.imshow(ims[i], interpolation=None if interp else 'none', vmin=mn,vmax=mx)\n",
    "\n",
    "def plot(im, interp=False):\n",
    "    f = plt.figure(figsize=(3,6), frameon=True)\n",
    "    plt.imshow(im, interpolation=None if interp else 'none')\n",
    "\n",
    "plt.gray()\n",
    "plt.close()"
   ]
  },
  {
   "cell_type": "code",
   "execution_count": 38,
   "metadata": {},
   "outputs": [
    {
     "data": {
      "text/plain": [
       "((55000, 784), (55000, 10))"
      ]
     },
     "execution_count": 38,
     "metadata": {},
     "output_type": "execute_result"
    }
   ],
   "source": [
    "x_train.shape,y_train.shape\n",
    "# shape of x, shape of y\n",
    "# x is 55000 img, each img is 28*28=784 numbers, \n",
    "# in this stage, we are not looking at colors yet,"
   ]
  },
  {
   "cell_type": "code",
   "execution_count": 12,
   "metadata": {},
   "outputs": [
    {
     "data": {
      "image/png": "[encoded data removed]",
      "text/plain": [
       "<matplotlib.figure.Figure at 0x7f3deafe13c8>"
      ]
     },
     "metadata": {},
     "output_type": "display_data"
    }
   ],
   "source": [
    "# We pick 6th number (index 5)\n",
    "# Reshape this number back to 28*28\n",
    "# Then we plot this image in grey scale\n",
    "# For this image I take a guess...My money is on \"8\"\n",
    "plot(x_train[5].reshape(28,28))"
   ]
  },
  {
   "cell_type": "code",
   "execution_count": 13,
   "metadata": {},
   "outputs": [
    {
     "data": {
      "text/plain": [
       "array([ 0.,  0.,  0.,  0.,  0.,  0.,  0.,  0.,  1.,  0.])"
      ]
     },
     "execution_count": 13,
     "metadata": {},
     "output_type": "execute_result"
    }
   ],
   "source": [
    "# Let's check the label\n",
    "# The label is in onehot encoding, \n",
    "y_train[5]"
   ]
  },
  {
   "cell_type": "markdown",
   "metadata": {},
   "source": [
    "So in sense of 0,1,2,....8,9. The label is 8"
   ]
  },
  {
   "cell_type": "code",
   "execution_count": 14,
   "metadata": {},
   "outputs": [
    {
     "data": {
      "image/png": "[encoded data removed]",
      "text/plain": [
       "<matplotlib.figure.Figure at 0x7f3deae52898>"
      ]
     },
     "metadata": {},
     "output_type": "display_data"
    }
   ],
   "source": [
    "# Let's check the 100th number\n",
    "plot(x_train[99].reshape(28,28))"
   ]
  },
  {
   "cell_type": "code",
   "execution_count": 16,
   "metadata": {},
   "outputs": [
    {
     "data": {
      "text/plain": [
       "array([ 0.,  0.,  0.,  0.,  0.,  0.,  1.,  0.,  0.,  0.])"
      ]
     },
     "execution_count": 16,
     "metadata": {},
     "output_type": "execute_result"
    }
   ],
   "source": [
    "# The 100th label\n",
    "y_train[99]"
   ]
  },
  {
   "cell_type": "code",
   "execution_count": 17,
   "metadata": {
    "collapsed": true
   },
   "outputs": [],
   "source": [
    "from keras.layers import Input,Activation,Dense,Dropout,BatchNormalization"
   ]
  },
  {
   "cell_type": "code",
   "execution_count": 27,
   "metadata": {
    "collapsed": true
   },
   "outputs": [],
   "source": [
    "from keras.models import Model,Sequential"
   ]
  },
  {
   "cell_type": "markdown",
   "metadata": {},
   "source": [
    "Simple inputlayer(184) to output layer(10)"
   ]
  },
  {
   "cell_type": "code",
   "execution_count": 32,
   "metadata": {
    "collapsed": true
   },
   "outputs": [],
   "source": [
    "md=Sequential([\n",
    "    Dense(10,activation=\"softmax\",input_shape=(784,))\n",
    "])"
   ]
  },
  {
   "cell_type": "code",
   "execution_count": 33,
   "metadata": {},
   "outputs": [
    {
     "name": "stdout",
     "output_type": "stream",
     "text": [
      "_________________________________________________________________\n",
      "Layer (type)                 Output Shape              Param #   \n",
      "=================================================================\n",
      "dense_4 (Dense)              (None, 10)                7850      \n",
      "=================================================================\n",
      "Total params: 7,850\n",
      "Trainable params: 7,850\n",
      "Non-trainable params: 0\n",
      "_________________________________________________________________\n"
     ]
    }
   ],
   "source": [
    "md.summary()"
   ]
  },
  {
   "cell_type": "code",
   "execution_count": 40,
   "metadata": {},
   "outputs": [
    {
     "data": {
      "text/plain": [
       "(784, 10)"
      ]
     },
     "execution_count": 40,
     "metadata": {},
     "output_type": "execute_result"
    }
   ],
   "source": [
    "# This refelct only the simpliest linear relationship\n",
    "# between each pixel's value(0~1) to each digit's possibility\n",
    "weights=md.get_weights()\n",
    "weights[0].shape"
   ]
  },
  {
   "cell_type": "markdown",
   "metadata": {},
   "source": [
    "### Training"
   ]
  },
  {
   "cell_type": "markdown",
   "metadata": {},
   "source": [
    "#### Loss function is how we measure how wrong is prediciton y_ from the real y\n",
    "\n",
    "This wrongness is quantifiable\n",
    "\n",
    "1. for classification problem(which number it is) set the loss function to \"categorical_crossentropy\"\n",
    "2. for regression problem, set the loss function to \"mse\"(mean square error)\n",
    "\n",
    "I guess you've already familiar with MSE, the far away you guess is, the bigger mse is. If each of the real y is a number around 20, model's guess is at 10000, the mse is going to be huge.\n",
    "\n",
    "cross-entropy is something similar, but telling you: how wrong your guess of category is. \n",
    "\n",
    "The fomular of cross-entropy isn't very complicated, and handled by some of the machine learning library, but you're welcomed to check it up.\n",
    "\n",
    "Loss function is crucial to machine learning, knowing how wrong you model is or the direction of the wrongness, will make your model learn."
   ]
  },
  {
   "cell_type": "code",
   "execution_count": 45,
   "metadata": {
    "collapsed": true
   },
   "outputs": [],
   "source": [
    "md.compile(loss=\"categorical_crossentropy\",# set the loss function\n",
    "           optimizer=\"Adam\", # optimizer is another story, for now, optimizer is a way of improving your model, bit by bit\n",
    "           metrics=[\"accuracy\"]\n",
    "          )"
   ]
  },
  {
   "cell_type": "code",
   "execution_count": 46,
   "metadata": {},
   "outputs": [
    {
     "name": "stdout",
     "output_type": "stream",
     "text": [
      "Train on 55000 samples, validate on 5000 samples\n",
      "Epoch 1/2\n",
      "55000/55000 [==============================] - 5s - loss: 0.2966 - acc: 0.9164 - val_loss: 0.2687 - val_acc: 0.9244\n",
      "Epoch 2/2\n",
      "55000/55000 [==============================] - 5s - loss: 0.2792 - acc: 0.9214 - val_loss: 0.2661 - val_acc: 0.9248\n"
     ]
    },
    {
     "data": {
      "text/plain": [
       "<keras.callbacks.History at 0x7f3dea123d68>"
      ]
     },
     "execution_count": 46,
     "metadata": {},
     "output_type": "execute_result"
    }
   ],
   "source": [
    "md.fit(x_train,y_train,\n",
    "       validation_data=(x_valid,y_valid), # validation data, not involved in training, but exam the model for each epoch\n",
    "       epochs=2,# how many time we are going to run through the entire training data\n",
    "       batch_size=16,#how many image's we process per batch\n",
    "      )"
   ]
  },
  {
   "cell_type": "markdown",
   "metadata": {},
   "source": [
    "you can try to run the fit youself.\n",
    "\n",
    "After 2 epochs of traning, it reaches a training accruacy (in-school exam) of 92.14%, and validation accruacy of 92.48%"
   ]
  },
  {
   "cell_type": "markdown",
   "metadata": {},
   "source": [
    "now let's gut this beautiful thing open:"
   ]
  },
  {
   "cell_type": "code",
   "execution_count": 50,
   "metadata": {},
   "outputs": [
    {
     "data": {
      "text/plain": [
       "(2, (784, 10))"
      ]
     },
     "execution_count": 50,
     "metadata": {},
     "output_type": "execute_result"
    }
   ],
   "source": [
    "weights=md.get_weights()\n",
    "# model could have been for multiple layers there might be more matrices inside\n",
    "# the second layer is for bias of each number\n",
    "len(weights),weights[0].shape"
   ]
  },
  {
   "cell_type": "markdown",
   "metadata": {},
   "source": [
    "#### Visualize the weights"
   ]
  },
  {
   "cell_type": "markdown",
   "metadata": {},
   "source": [
    "the 784*10 matrix is the mapping relationships between 784 pixels and 10 digits"
   ]
  },
  {
   "cell_type": "code",
   "execution_count": 52,
   "metadata": {
    "collapsed": true
   },
   "outputs": [],
   "source": [
    "w_slice=[]\n",
    "for i in range(10):\n",
    "    w_slice.append(weights[0][:,i:i+1])"
   ]
  },
  {
   "cell_type": "markdown",
   "metadata": {},
   "source": [
    "If we slice out each pixel's contribution to the result by digits, we can have a heat map of pixel's importance to each digit, isn't that cool?!"
   ]
  },
  {
   "cell_type": "code",
   "execution_count": 54,
   "metadata": {},
   "outputs": [
    {
     "data": {
      "image/png": "[encoded data removed]",
      "text/plain": [
       "<matplotlib.figure.Figure at 0x7f3de91242e8>"
      ]
     },
     "metadata": {},
     "output_type": "display_data"
    },
    {
     "data": {
      "image/png": "[encoded data removed]",
      "text/plain": [
       "<matplotlib.figure.Figure at 0x7f3de90d2080>"
      ]
     },
     "metadata": {},
     "output_type": "display_data"
    },
    {
     "data": {
      "image/png": "[encoded data removed]",
      "text/plain": [
       "<matplotlib.figure.Figure at 0x7f3de91d16d8>"
      ]
     },
     "metadata": {},
     "output_type": "display_data"
    },
    {
     "data": {
      "image/png": "[encoded data removed]",
      "text/plain": [
       "<matplotlib.figure.Figure at 0x7f3deade8e80>"
      ]
     },
     "metadata": {},
     "output_type": "display_data"
    },
    {
     "data": {
      "image/png": "[encoded data removed]",
      "text/plain": [
       "<matplotlib.figure.Figure at 0x7f3e00e4f400>"
      ]
     },
     "metadata": {},
     "output_type": "display_data"
    },
    {
     "data": {
      "image/png": "[encoded data removed]",
      "text/plain": [
       "<matplotlib.figure.Figure at 0x7f3e00e370b8>"
      ]
     },
     "metadata": {},
     "output_type": "display_data"
    },
    {
     "data": {
      "image/png": "[encoded data removed]",
      "text/plain": [
       "<matplotlib.figure.Figure at 0x7f3de91bda20>"
      ]
     },
     "metadata": {},
     "output_type": "display_data"
    },
    {
     "data": {
      "image/png": "[encoded data removed]",
      "text/plain": [
       "<matplotlib.figure.Figure at 0x7f3de902b828>"
      ]
     },
     "metadata": {},
     "output_type": "display_data"
    },
    {
     "data": {
      "image/png": "[encoded data removed]",
      "text/plain": [
       "<matplotlib.figure.Figure at 0x7f3de8f9a278>"
      ]
     },
     "metadata": {},
     "output_type": "display_data"
    },
    {
     "data": {
      "image/png": "[encoded data removed]",
      "text/plain": [
       "<matplotlib.figure.Figure at 0x7f3de8fc9be0>"
      ]
     },
     "metadata": {},
     "output_type": "display_data"
    }
   ],
   "source": [
    "for i in range(10):plot(w_slice[i].reshape(28,28))"
   ]
  },
  {
   "cell_type": "markdown",
   "metadata": {},
   "source": [
    "### Deeper!!"
   ]
  },
  {
   "cell_type": "markdown",
   "metadata": {},
   "source": [
    "Now, let's not dwell on 92%, it's kinda suck"
   ]
  },
  {
   "cell_type": "code",
   "execution_count": 58,
   "metadata": {
    "collapsed": true
   },
   "outputs": [],
   "source": [
    "md=Sequential([\n",
    "    Dense(2000,activation=\"relu\",input_shape=(784,)),# relu is like max(x,0) in excel\n",
    "    Dense(10,activation=\"softmax\"),#output layer neuron number must be 10 to match y's dimension\n",
    "])\n",
    "md.compile(loss=\"categorical_crossentropy\",\n",
    "           optimizer=\"Adam\", \n",
    "           metrics=[\"accuracy\"]\n",
    "          )"
   ]
  },
  {
   "cell_type": "markdown",
   "metadata": {},
   "source": [
    "#### Train again for 2 epochs"
   ]
  },
  {
   "cell_type": "code",
   "execution_count": 59,
   "metadata": {},
   "outputs": [
    {
     "name": "stdout",
     "output_type": "stream",
     "text": [
      "Train on 55000 samples, validate on 5000 samples\n",
      "Epoch 1/2\n",
      "55000/55000 [==============================] - 214s - loss: 0.1845 - acc: 0.9436 - val_loss: 0.1030 - val_acc: 0.9684\n",
      "Epoch 2/2\n",
      "55000/55000 [==============================] - 211s - loss: 0.0840 - acc: 0.9736 - val_loss: 0.0822 - val_acc: 0.9742\n"
     ]
    },
    {
     "data": {
      "text/plain": [
       "<keras.callbacks.History at 0x7f3de8ef0438>"
      ]
     },
     "execution_count": 59,
     "metadata": {},
     "output_type": "execute_result"
    }
   ],
   "source": [
    "md.fit(x_train,y_train,\n",
    "       validation_data=(x_valid,y_valid), epochs=2,batch_size=16,\n",
    "      )"
   ]
  },
  {
   "cell_type": "code",
   "execution_count": 60,
   "metadata": {
    "collapsed": true
   },
   "outputs": [],
   "source": [
    "weights=md.get_weights()"
   ]
  },
  {
   "cell_type": "code",
   "execution_count": 61,
   "metadata": {},
   "outputs": [
    {
     "name": "stdout",
     "output_type": "stream",
     "text": [
      "(784, 2000)\n",
      "(2000,)\n",
      "(2000, 10)\n",
      "(10,)\n"
     ]
    }
   ],
   "source": [
    "for w in weights:\n",
    "    print(w.shape)"
   ]
  },
  {
   "cell_type": "markdown",
   "metadata": {},
   "source": [
    "#### Running resuilt"
   ]
  },
  {
   "cell_type": "markdown",
   "metadata": {},
   "source": [
    "First, you can find the model is training much slower\n",
    "\n",
    "Secondly, the accuracy is way up, isn't that beutiful? Because if we use the hidden layer, the relationship between pixels will be considered.(if we use traditional feature engineering, like thinking of x1x2..., this will be way harder, and depend heavily on field expertise, and won't fit as good)\n",
    "\n",
    "Also, since we use the hidden layer, it ain't no mapping relationship between each pixel and each digit any more. I sure can't visualize this easily now. It's harder to explain the model, but the model can perform much better. That's why people say things like **deep** learning or **hidden** layer.\n",
    "\n",
    "of course, 0.9742 still sucks... "
   ]
  },
  {
   "cell_type": "markdown",
   "metadata": {},
   "source": [
    "#### Convolution"
   ]
  },
  {
   "cell_type": "markdown",
   "metadata": {},
   "source": [
    "And in recent month, we will teach you more advanced skills based on ths model, it will give you 99.5%+ score(check kaggle mnist competition, 99.5% can get you into top 70 out of 1600+ competitors). "
   ]
  },
  {
   "cell_type": "markdown",
   "metadata": {},
   "source": [
    "The more advanced skill is concerning a technique called \"convolution\", the reason why I do not teach you convolution today, is not because it's hard... it's only because convolution is computational expensive. You'll learn to hookup fancier device before you can try convolution"
   ]
  },
  {
   "cell_type": "markdown",
   "metadata": {},
   "source": [
    "#### Preview"
   ]
  },
  {
   "cell_type": "markdown",
   "metadata": {},
   "source": [
    "please click this link for a taste of [convolution](http://course.fast.ai/lessons/lesson0.html). It's a video less than an hour, (first half, introduction, second half, run codes on jupyter to show convolution, it's very amazing)"
   ]
  },
  {
   "cell_type": "markdown",
   "metadata": {},
   "source": [
    "### After session"
   ]
  },
  {
   "cell_type": "markdown",
   "metadata": {},
   "source": [
    "There are some amazing videos about deep learning and MNIST dataset by 3blue1brown, check it here:\n",
    "\n",
    "[Video1:But what *is* a Neural Network? | Deep learning, Part 1](https://www.youtube.com/watch?v=aircAruvnKk)\n",
    "\n",
    "[Video2:Gradient descent, how neural networks learn | Deep learning, part 2](https://www.youtube.com/watch?v=IHZwWFHWa-w)"
   ]
  }
 ],
 "metadata": {
  "kernelspec": {
   "display_name": "Python 3",
   "language": "python",
   "name": "python3"
  },
  "language_info": {
   "codemirror_mode": {
    "name": "ipython",
    "version": 3.0
   },
   "file_extension": ".py",
   "mimetype": "text/x-python",
   "name": "python",
   "nbconvert_exporter": "python",
   "pygments_lexer": "ipython3",
   "version": "3.6.1"
  }
 },
 "nbformat": 4,
 "nbformat_minor": 0
}
