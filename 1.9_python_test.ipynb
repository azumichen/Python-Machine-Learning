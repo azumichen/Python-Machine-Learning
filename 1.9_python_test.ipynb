{
 "cells": [
  {
   "cell_type": "markdown",
   "metadata": {},
   "source": [
    "# Test Python Skill"
   ]
  },
  {
   "cell_type": "markdown",
   "metadata": {},
   "source": [
    "### Googling is permitted\n",
    "\n",
    "#### This is the entry test for further ML/DL course"
   ]
  },
  {
   "cell_type": "markdown",
   "metadata": {},
   "source": [
    "The data is from [Kaggle Trending Youtube Dataset](https://www.kaggle.com/datasnaek/youtube-new/data), you can download and put it into the same folder of this notebook file.\n",
    "\n",
    "The code should work fine with python3.6"
   ]
  },
  {
   "cell_type": "markdown",
   "metadata": {},
   "source": [
    "Define a function that will return a string of time stamp in the following way:\n",
    "\n",
    "* 2018-03-10_15:32:01"
   ]
  },
  {
   "cell_type": "code",
   "execution_count": null,
   "metadata": {
    "collapsed": true
   },
   "outputs": [],
   "source": [
    "def getnow():\n",
    "    return "
   ]
  },
  {
   "cell_type": "markdown",
   "metadata": {},
   "source": [
    "Let's sample 15 lines from the dataset, all videos trending on 18.01.01"
   ]
  },
  {
   "cell_type": "code",
   "execution_count": null,
   "metadata": {
    "collapsed": true
   },
   "outputs": [],
   "source": [
    "import pandas as pd\n",
    "\n",
    "usvideos = "
   ]
  },
  {
   "cell_type": "markdown",
   "metadata": {},
   "source": [
    "#### With the data on 18.01.01"
   ]
  },
  {
   "cell_type": "markdown",
   "metadata": {},
   "source": [
    "A list of all characters in title, each element should be unique in the list"
   ]
  },
  {
   "cell_type": "code",
   "execution_count": null,
   "metadata": {
    "collapsed": true
   },
   "outputs": [],
   "source": [
    "CHARS = "
   ]
  },
  {
   "cell_type": "markdown",
   "metadata": {},
   "source": [
    "Define a function, it will search the tags column for the key word, and return 5 results at most."
   ]
  },
  {
   "cell_type": "code",
   "execution_count": null,
   "metadata": {
    "collapsed": true
   },
   "outputs": [],
   "source": [
    "def search_tag(keyword):\n",
    "    return \n",
    "\n",
    "search_tag(\"last week\")"
   ]
  },
  {
   "cell_type": "markdown",
   "metadata": {},
   "source": [
    "Change the search_tag function, the return will be based on a the ranking of the score, the score should be 60% X views and 40% X likes"
   ]
  },
  {
   "cell_type": "code",
   "execution_count": null,
   "metadata": {
    "collapsed": true
   },
   "outputs": [],
   "source": [
    "def search_tag(keyword):\n",
    "    return \n",
    "\n",
    "search_tag(\"trump\")"
   ]
  },
  {
   "cell_type": "markdown",
   "metadata": {},
   "source": [
    "Design a class called \"viewer\"\n",
    "\n",
    "Viewer watched some trending youtube video on 2018-01-01\n",
    "\n",
    "At each round, randomly pick 10 videos (<= 10) that the viewer hasn't watched. Choose the 3 videos of the highest score to watch. \n",
    "\n",
    "Repeat the process until all the videos are watched.\n",
    "\n",
    "* Create 1000 viewers to do this silly experiment.\n",
    "* Through this experiment, what's the 10 most watched video in first 5 rounds among these 1000 viewers?\n",
    "* Now at each round, we try to watch top 2 videos, or top 4 or top 5 or top 6, how will the result changed.\n",
    "* Let's say, each video has a % of tendency to be played at first 5 rounds, and the ranking of that percentage is less or more affected by score ranking. Now design a bench mark to tell how much the ranking score will affect the experiment"
   ]
  },
  {
   "cell_type": "code",
   "execution_count": null,
   "metadata": {
    "collapsed": true
   },
   "outputs": [],
   "source": []
  }
 ],
 "metadata": {
  "kernelspec": {
   "display_name": "Python 3",
   "language": "python",
   "name": "python3"
  },
  "language_info": {
   "codemirror_mode": {
    "name": "ipython",
    "version": 3
   },
   "file_extension": ".py",
   "mimetype": "text/x-python",
   "name": "python",
   "nbconvert_exporter": "python",
   "pygments_lexer": "ipython3",
   "version": "3.6.1"
  }
 },
 "nbformat": 4,
 "nbformat_minor": 2
}
